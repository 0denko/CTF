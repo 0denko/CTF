{
 "cells": [
  {
   "cell_type": "code",
   "execution_count": 1,
   "id": "57c08807-a77b-4235-a66a-5dc0fa4b28b3",
   "metadata": {},
   "outputs": [],
   "source": [
    "import torch\n",
    "import torch.nn as nn\n",
    "from torch.nn import functional as F\n",
    "torch.manual_seed(1337)\n",
    "\n",
    "vocab = list(\"0123456789abcdefghijklmnopqrstuvwxyzABCDEFGHIJKLMNOPQRSTUVWXYZ!#$%&'()*+,-./:;<=>?@[\\]^_`{|}\\n\")\n",
    "\n",
    "class BigramLanguageModel(nn.Module):\n",
    "\n",
    "    def __init__(self, vocab_size):\n",
    "        super().__init__()\n",
    "        self.token_embedding_table = nn.Embedding(vocab_size, vocab_size)\n",
    "\n",
    "    def forward(self, idx, targets=None):\n",
    "\n",
    "        logits = self.token_embedding_table(idx) \n",
    "        \n",
    "        if targets is None:\n",
    "            loss = None\n",
    "        else:\n",
    "            B, T, C = logits.shape\n",
    "            logits = logits.view(B*T, C)\n",
    "            targets = targets.view(B*T)\n",
    "            loss = F.cross_entropy(logits, targets)\n",
    "\n",
    "        return logits"
   ]
  },
  {
   "cell_type": "code",
   "execution_count": 2,
   "id": "c8d5b88a-092e-4a37-b6eb-eba4fb7a053f",
   "metadata": {
    "tags": []
   },
   "outputs": [
    {
     "data": {
      "text/plain": [
       "BigramLanguageModel(\n",
       "  (token_embedding_table): Embedding(93, 93)\n",
       ")"
      ]
     },
     "execution_count": 2,
     "metadata": {},
     "output_type": "execute_result"
    }
   ],
   "source": [
    "model = BigramLanguageModel(len(vocab))               ## create an instance of the BigramLanguageModel\n",
    "model.load_state_dict(torch.load(\"bigram_model.pt\"))  ## load the trained weights\n",
    "model.eval()                                          ## set the model to evaluation mode"
   ]
  },
  {
   "cell_type": "code",
   "execution_count": 3,
   "id": "03a70074-bb78-4e5d-bcfb-08c6813b4885",
   "metadata": {
    "tags": []
   },
   "outputs": [],
   "source": [
    "flag = \"HTB\"                                          ## we expect the flag to begin with HTB\n",
    "idxs = torch.tensor([vocab.index(c) for c in flag], dtype=torch.long).unsqueeze(0) ##convert the initial flag to indexes"
   ]
  },
  {
   "cell_type": "code",
   "execution_count": 4,
   "id": "a870d64d-3e05-4cc8-a855-c64958765bd8",
   "metadata": {},
   "outputs": [],
   "source": [
    "logits = model(idxs)"
   ]
  },
  {
   "cell_type": "code",
   "execution_count": 5,
   "id": "7eead7e7-27b6-4013-93f7-3c2d3255e986",
   "metadata": {},
   "outputs": [],
   "source": [
    "next_idx = torch.multinomial(torch.softmax(logits[:, -1], dim=1), num_samples=1).item()\n",
    "next_char = vocab[next_idx]"
   ]
  },
  {
   "cell_type": "code",
   "execution_count": 6,
   "id": "ac59d4ab-889e-47a1-951e-a76c4337cbe8",
   "metadata": {},
   "outputs": [],
   "source": [
    "flag += next_char"
   ]
  },
  {
   "cell_type": "code",
   "execution_count": 7,
   "id": "de264f3e-33d2-4ae9-bd5d-715ecf3e2dea",
   "metadata": {},
   "outputs": [
    {
     "name": "stdout",
     "output_type": "stream",
     "text": [
      "HTB{\n"
     ]
    }
   ],
   "source": [
    "print(flag)                                           ## confirm the above code works as we get { prediction"
   ]
  },
  {
   "cell_type": "code",
   "execution_count": null,
   "id": "ef9b437f-ab4d-46ac-a5b5-361cc63fadf8",
   "metadata": {
    "tags": []
   },
   "outputs": [],
   "source": [
    "while True:                                           ## run the same prediction until we get }\n",
    "    idxs = torch.tensor([vocab.index(c) for c in flag], dtype=torch.long).unsqueeze(0)\n",
    "    logits = model(idxs)\n",
    "    next_idx = torch.multinomial(torch.softmax(logits[:, -1], dim=1), num_samples=1).item()\n",
    "    next_char = vocab[next_idx]\n",
    "    flag += next_char\n",
    "    if next_char == \"}\":                              ## stop if the closing bracket } is predicted\n",
    "        break\n",
    "\n",
    "print(flag)"
   ]
  }
 ],
 "metadata": {
  "kernelspec": {
   "display_name": "Python 3 (ipykernel)",
   "language": "python",
   "name": "python3"
  },
  "language_info": {
   "codemirror_mode": {
    "name": "ipython",
    "version": 3
   },
   "file_extension": ".py",
   "mimetype": "text/x-python",
   "name": "python",
   "nbconvert_exporter": "python",
   "pygments_lexer": "ipython3",
   "version": "3.10.9"
  }
 },
 "nbformat": 4,
 "nbformat_minor": 5
}
