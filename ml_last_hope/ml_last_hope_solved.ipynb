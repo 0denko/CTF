{
 "cells": [
  {
   "cell_type": "code",
   "execution_count": 1,
   "id": "e6c51c21-75e4-4a21-aba0-6cadaeea2fd4",
   "metadata": {},
   "outputs": [],
   "source": [
    "from qiskit import QuantumCircuit\n",
    "qc = QuantumCircuit.from_qasm_file('quantum_artifact.qasm')"
   ]
  },
  {
   "cell_type": "code",
   "execution_count": 2,
   "id": "bf363beb-a64f-44c7-80cc-b4d24822ab21",
   "metadata": {
    "tags": []
   },
   "outputs": [
    {
     "name": "stdout",
     "output_type": "stream",
     "text": [
      "<qiskit_aer.jobs.aerjob.AerJob object at 0x7ffb6e57e530>\n",
      "Result(backend_name='qasm_simulator', backend_version='0.12.0', qobj_id='', job_id='3dbc302b-e015-4501-9cf0-692a498b410a', success=True, results=[ExperimentResult(shots=1024, success=True, meas_level=2, data=ExperimentResultData(counts={'0x4854427b615f676c316d7073335f30665f683070337d': 1024}), header=QobjExperimentHeader(creg_sizes=[['c', 176]], global_phase=0.0, memory_slots=176, n_qubits=177, name='circuit-88', qreg_sizes=[['q', 177]]), status=DONE, seed_simulator=2100554048, metadata={'noise': 'ideal', 'batched_shots_optimization': False, 'measure_sampling': True, 'parallel_shots': 1, 'remapped_qubits': False, 'active_input_qubits': [0, 1, 2, 3, 4, 5, 6, 7, 8, 9, 10, 11, 12, 13, 14, 15, 16, 17, 18, 19, 20, 21, 22, 23, 24, 25, 26, 27, 28, 29, 30, 31, 32, 33, 34, 35, 36, 37, 38, 39, 40, 41, 42, 43, 44, 45, 46, 47, 48, 49, 50, 51, 52, 53, 54, 55, 56, 57, 58, 59, 60, 61, 62, 63, 64, 65, 66, 67, 68, 69, 70, 71, 72, 73, 74, 75, 76, 77, 78, 79, 80, 81, 82, 83, 84, 85, 86, 87, 88, 89, 90, 91, 92, 93, 94, 95, 96, 97, 98, 99, 100, 101, 102, 103, 104, 105, 106, 107, 108, 109, 110, 111, 112, 113, 114, 115, 116, 117, 118, 119, 120, 121, 122, 123, 124, 125, 126, 127, 128, 129, 130, 131, 132, 133, 134, 135, 136, 137, 138, 139, 140, 141, 142, 143, 144, 145, 146, 147, 148, 149, 150, 151, 152, 153, 154, 155, 156, 157, 158, 159, 160, 161, 162, 163, 164, 165, 166, 167, 168, 169, 170, 171, 172, 173, 174, 175, 176], 'num_clbits': 176, 'parallel_state_update': 8, 'sample_measure_time': 0.865916673, 'num_qubits': 177, 'device': 'CPU', 'input_qubit_map': [[176, 176], [175, 175], [174, 174], [173, 173], [172, 172], [171, 171], [170, 170], [169, 169], [168, 168], [167, 167], [166, 166], [165, 165], [164, 164], [163, 163], [162, 162], [161, 161], [160, 160], [159, 159], [158, 158], [157, 157], [156, 156], [155, 155], [154, 154], [153, 153], [152, 152], [151, 151], [150, 150], [149, 149], [148, 148], [147, 147], [146, 146], [145, 145], [144, 144], [143, 143], [142, 142], [141, 141], [140, 140], [139, 139], [138, 138], [137, 137], [136, 136], [135, 135], [134, 134], [133, 133], [132, 132], [131, 131], [130, 130], [129, 129], [128, 128], [127, 127], [58, 58], [57, 57], [56, 56], [55, 55], [54, 54], [53, 53], [52, 52], [51, 51], [50, 50], [49, 49], [48, 48], [47, 47], [46, 46], [45, 45], [44, 44], [43, 43], [42, 42], [41, 41], [40, 40], [39, 39], [38, 38], [37, 37], [36, 36], [35, 35], [34, 34], [33, 33], [32, 32], [31, 31], [30, 30], [29, 29], [12, 12], [11, 11], [10, 10], [9, 9], [8, 8], [7, 7], [6, 6], [5, 5], [4, 4], [3, 3], [2, 2], [1, 1], [0, 0], [13, 13], [14, 14], [15, 15], [16, 16], [17, 17], [18, 18], [19, 19], [20, 20], [21, 21], [22, 22], [23, 23], [24, 24], [25, 25], [26, 26], [27, 27], [28, 28], [59, 59], [60, 60], [61, 61], [62, 62], [63, 63], [64, 64], [65, 65], [66, 66], [67, 67], [68, 68], [69, 69], [70, 70], [71, 71], [72, 72], [73, 73], [74, 74], [75, 75], [76, 76], [77, 77], [78, 78], [79, 79], [80, 80], [81, 81], [82, 82], [83, 83], [84, 84], [85, 85], [86, 86], [87, 87], [88, 88], [89, 89], [90, 90], [91, 91], [92, 92], [93, 93], [94, 94], [95, 95], [96, 96], [97, 97], [98, 98], [99, 99], [100, 100], [101, 101], [102, 102], [103, 103], [104, 104], [105, 105], [106, 106], [107, 107], [108, 108], [109, 109], [110, 110], [111, 111], [112, 112], [113, 113], [114, 114], [115, 115], [116, 116], [117, 117], [118, 118], [119, 119], [120, 120], [121, 121], [122, 122], [123, 123], [124, 124], [125, 125], [126, 126]], 'method': 'stabilizer', 'fusion': {'enabled': False}}, time_taken=0.893636519)], date=2023-03-24T22:08:51.270988, status=COMPLETED, header=None, metadata={'time_taken_execute': 0.893669946, 'mpi_rank': 0, 'num_mpi_processes': 1, 'max_gpu_memory_mb': 0, 'max_memory_mb': 16010, 'parallel_experiments': 1, 'num_processes_per_experiments': 1, 'omp_enabled': True}, time_taken=0.8987092971801758)\n",
      "{'01001000010101000100001001111011011000010101111101100111011011000011000101101101011100000111001100110011010111110011000001100110010111110110100000110000011100000011001101111101': 1024}\n"
     ]
    }
   ],
   "source": [
    "from qiskit.providers.aer import QasmSimulator\n",
    "simulator = QasmSimulator()\n",
    "\n",
    "job = simulator.run(qc)\n",
    "result = job.result()\n",
    "counts = result.get_counts()\n",
    "\n",
    "print(job)\n",
    "print(result)\n",
    "print(counts)"
   ]
  },
  {
   "cell_type": "code",
   "execution_count": 3,
   "id": "06c9e8b0-c3ae-4de3-8763-27b4a1205984",
   "metadata": {
    "tags": []
   },
   "outputs": [
    {
     "name": "stdout",
     "output_type": "stream",
     "text": [
      "HTB{a_gl1mps3_0f_h0p3}\n"
     ]
    }
   ],
   "source": [
    "binary = next(iter(counts))\n",
    "\n",
    "chunks = [binary[i:i+8] for i in range(0, len(binary), 8)]\n",
    "flag = ''.join([chr(int(chunk, 2)) for chunk in chunks])\n",
    "\n",
    "print(flag)"
   ]
  }
 ],
 "metadata": {
  "kernelspec": {
   "display_name": "Python 3 (ipykernel)",
   "language": "python",
   "name": "python3"
  },
  "language_info": {
   "codemirror_mode": {
    "name": "ipython",
    "version": 3
   },
   "file_extension": ".py",
   "mimetype": "text/x-python",
   "name": "python",
   "nbconvert_exporter": "python",
   "pygments_lexer": "ipython3",
   "version": "3.10.9"
  }
 },
 "nbformat": 4,
 "nbformat_minor": 5
}
