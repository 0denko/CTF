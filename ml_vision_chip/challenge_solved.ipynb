{
 "cells": [
  {
   "cell_type": "code",
   "execution_count": 1,
   "id": "ad990016-9bc2-4e27-b4ba-e68337d9691a",
   "metadata": {
    "tags": []
   },
   "outputs": [],
   "source": [
    "import numpy as np\n",
    "import matplotlib.pyplot as plt\n",
    "import matplotlib\n",
    "\n",
    "import torch\n",
    "import torch.nn.functional as F\n",
    "from PIL import Image\n",
    "from torchvision import transforms\n",
    "from math import ceil\n",
    "\n",
    "preprocess = transforms.Compose([\n",
    "    transforms.ToTensor(),\n",
    "    transforms.Normalize(mean=[0.485, 0.456, 0.406], std=[0.229, 0.224, 0.225]),\n",
    "])\n",
    "\n",
    "from model import EarthVisionModel\n",
    "\n",
    "def unpickle(file):\n",
    "    import pickle\n",
    "    with open(file, 'rb') as fo:\n",
    "        _dict = pickle.load(fo, encoding='bytes')\n",
    "    return _dict\n",
    "\n",
    "label_meta = unpickle(\"./meta\")\n",
    "\n",
    "#manually define class indexes corresponding with contstructed objects in label_meta\n",
    "buildings = {12, 6, 60, 13, 84, 18, 16, 73, 95, 49, 55, 58, 59, 72, 48, 96, 19, 39, 90, 75, 23, 97, 69, 56, 33, 81, 63, 85, 5, 17, 71, 37, 76, 9, 31, 68, 38}\n"
   ]
  },
  {
   "cell_type": "code",
   "execution_count": 2,
   "id": "6eccdfe6",
   "metadata": {
    "tags": []
   },
   "outputs": [
    {
     "data": {
      "text/plain": [
       "<All keys matched successfully>"
      ]
     },
     "execution_count": 2,
     "metadata": {},
     "output_type": "execute_result"
    }
   ],
   "source": [
    "model = EarthVisionModel()                             #declare the model\n",
    "model.eval()                                           #set the model to evaluation mode\n",
    "model.load_state_dict(torch.load('state_dict.pt'))     #load the model"
   ]
  },
  {
   "cell_type": "code",
   "execution_count": 3,
   "id": "a19a9a02",
   "metadata": {
    "tags": []
   },
   "outputs": [],
   "source": [
    "flag = np.zeros((32,256))                              #declare the flag as 32*256"
   ]
  },
  {
   "cell_type": "markdown",
   "id": "a612a963-a3fa-4eba-a97c-e58922ec51dd",
   "metadata": {
    "tags": []
   },
   "source": [
    "for row in range(0,32):                                #running through 32 rows\n",
    "    for col in range (0,256):                          #running through 256 columns\n",
    "        i = ((256 * (row)) + col)                      #calculated image number to pull in\n",
    "        image = Image.open(f\"test_X/{i}.jpg\")          #import image into the model\n",
    "        img = preprocess(image)                        #load and preprocess the input image\n",
    "        img_tensor = img.unsqueeze(0)                  #convert the preprocessed image to a tensor\n",
    "        with torch.no_grad():                          #disable gradients to save memory and resolve faster\n",
    "            output = model(img_tensor)                 #run the input image through the model to get a prediction\n",
    "        output_probs = F.softmax(output, dim=1)        #get predicted class index\n",
    "        _, predicted = torch.max(output_probs, 1)\n",
    "\n",
    "        if predicted.item() in buildings:              #check if class index belongs to buildings\n",
    "            color = 100                                #assign white to pixel belonging to buildings\n",
    "        else:\n",
    "            color = 1                                  #assign black to any other\n",
    "        \n",
    "        flag[row,col] = color                          #put a pixel into the corresponding position in the flag\n",
    "\n",
    "plt.imshow(flag, cmap=\"gray\")\n",
    "plt.show()"
   ]
  },
  {
   "cell_type": "code",
   "execution_count": null,
   "id": "baa51c02-06d2-4b1e-82ee-1fdbafd958c3",
   "metadata": {},
   "outputs": [],
   "source": []
  }
 ],
 "metadata": {
  "kernelspec": {
   "display_name": "Python 3 (ipykernel)",
   "language": "python",
   "name": "python3"
  },
  "language_info": {
   "codemirror_mode": {
    "name": "ipython",
    "version": 3
   },
   "file_extension": ".py",
   "mimetype": "text/x-python",
   "name": "python",
   "nbconvert_exporter": "python",
   "pygments_lexer": "ipython3",
   "version": "3.10.9"
  }
 },
 "nbformat": 4,
 "nbformat_minor": 5
}
